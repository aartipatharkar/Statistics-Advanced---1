{
  "nbformat": 4,
  "nbformat_minor": 0,
  "metadata": {
    "colab": {
      "provenance": []
    },
    "kernelspec": {
      "name": "python3",
      "display_name": "Python 3"
    },
    "language_info": {
      "name": "python"
    }
  },
  "cells": [
    {
      "cell_type": "markdown",
      "source": [
        "**Statistics Advanced - 1**"
      ],
      "metadata": {
        "id": "oSWW0vxio6Wm"
      }
    },
    {
      "cell_type": "markdown",
      "source": [
        "1)What is a random variable in probability theory?\n",
        "->\n",
        "A random variable is a quantity that describes the outcome of a random experiment and takes on numerical values. It assigns a real number to each outcome in the sample space, allowing us to quantify unpredictable events like the number of heads in a coin toss or the height of a person. Random variables can be either discrete, taking on countable, distinct values (e.g., number of heads), or continuous, capable of assuming any value within a given range (e.g., height)."
      ],
      "metadata": {
        "id": "pMYK30_mo8lq"
      }
    },
    {
      "cell_type": "markdown",
      "source": [
        "2)What are the types of random variables?\n",
        "->\n",
        "1. Discrete Random Variables:\n",
        "These variables can only assume specific, separate values, often integers.\n",
        "Think of flipping a coin (you get either 0 or 1 heads), rolling a die (you get a number from 1 to 6), or counting the number of cars passing a certain point in an hour.\n",
        "The set of possible values is either finite or countably infinite.\n",
        "2. Continuous Random Variables:\n",
        "These variables can take on any value within a given range or interval.\n",
        "Examples include the height of a person, the temperature of a room, or the time it takes to complete a task.\n",
        "The possible values are uncountable, meaning they can fall anywhere within a specified range.\n",
        "3. Mixed Random Variables:\n",
        "While not as common, some random variables can be a combination of both discrete and continuous components."
      ],
      "metadata": {
        "id": "Zbytz1XopIPT"
      }
    },
    {
      "cell_type": "markdown",
      "source": [
        "3)Explain the difference between discrete and continuous distributions.\n",
        "->\n",
        "Discrete Distributions\n",
        "Definition:\n",
        "Deals with discrete random variables that can only take on distinct, separate, or countable values. There are gaps between these possible values.\n",
        "Examples:\n",
        "The number of heads in three coin flips, the number of cars passing a point in an hour.\n",
        "Representation:\n",
        "Probabilities are assigned to each specific value, often using a Probability Mass Function (PMF). For example, P(X=3) = 0.2.\n",
        "Common Types:\n",
        "Binomial, Poisson, geometric distributions.\n",
        "\n",
        "Continuous Distributions\n",
        "Definition:\n",
        "Deals with continuous random variables that can take on any value within a given range or interval.\n",
        "Examples:\n",
        "The exact height of a person, the precise weight of a package, or the time it takes to complete a task.\n",
        "Representation:\n",
        "Uses a Probability Density Function (PDF) to describe the likelihood of the variable falling within a range. The probability of a continuous variable taking on any single, exact value is zero.\n",
        "Common Types:\n",
        "Normal (bell curve), Student's t, exponential distributions."
      ],
      "metadata": {
        "id": "WI874fT2pWS5"
      }
    },
    {
      "cell_type": "markdown",
      "source": [
        "4)What is a binomial distribution, and how is it used in probability?\n",
        "->\n",
        "A binomial distribution is a type of discrete probability distribution that calculates the probability of obtaining a specific number of \"successes\" in a fixed number of independent trials, where each trial has only two possible outcomes: \"success\" or \"failure\". It is used in probability to model events like coin flips (heads or tails), pass/fail test results, or the defective/non-defective status of a product, helping to determine the likelihood of a certain number of desired outcomes occurring.\n",
        "\n",
        "\n",
        "\n",
        "How it's Used in Probability:\n",
        "Calculating Probabilities: The binomial distribution formula helps to find the probability of getting exactly x successes in n trials. The formula is:\n",
        "P(x:n,p) = C(n,x) * p^x * (1-p)^(n-x)\n",
        "Where:\n",
        "P(x): is the probability of getting exactly x successes.\n",
        "C(n,x): is the combination formula (n choose x), which counts the number of ways to get x successes in n trials.\n",
        "p: is the probability of success on a single trial.\n",
        "(1-p): is the probability of failure on a single trial.\n",
        "n: is the number of trials.\n",
        "x: is the number of successes.\n"
      ],
      "metadata": {
        "id": "jcs2c7y1p6Es"
      }
    },
    {
      "cell_type": "markdown",
      "source": [
        "5)What is the standard normal distribution, and why is it important?\n",
        "->\n",
        "The standard normal distribution is a specific type of normal distribution where the mean is 0 and the standard deviation is 1. It's a fundamental concept in statistics and probability because it allows us to analyze and compare data from different normal distributions by converting them into z-scores. This enables us to find probabilities, compare scores, and understand the distribution of data more effectively.\n",
        "\n",
        "Why is it important?\n",
        "1. Probability Calculations:\n",
        "The standard normal distribution allows us to easily calculate probabilities associated with specific values or ranges of values within a normal distribution. For example, we can determine the probability of a randomly selected person being taller than a certain height, given the average height and standard deviation of the population.\n",
        "2. Comparison of Distributions:\n",
        "When comparing data from different normal distributions with varying means and standard deviations, it's helpful to convert them to z-scores. This allows for a standardized comparison, making it easier to see which distribution has more extreme values or which distribution has a higher probability of a certain outcome.\n",
        "3. Standardization:\n",
        "The standard normal distribution provides a standard reference point for understanding and interpreting data from any normal distribution.\n"
      ],
      "metadata": {
        "id": "hXg23ArsqOm4"
      }
    },
    {
      "cell_type": "markdown",
      "source": [
        "6)What is the Central Limit Theorem (CLT), and why is it critical in statistics?\n",
        "->\n",
        "The Central Limit Theorem (CLT) states that for a sufficiently large sample size (typically 30 or more), the distribution of sample means will approximate a normal (bell-shaped) distribution, regardless of the shape of the original population distribution. It is critical because it allows statisticians to use powerful normal distribution-based methods, such as hypothesis tests and confidence intervals, to make inferences about a population from sample data, even when the original data isn't normally distributed.\n",
        "\n",
        " Why It's Critical in Statistics\n",
        "\n",
        "Justifies Normal Distribution-Based Methods:\n",
        "Many statistical methods, like the t-test, are based on the assumption of a normal distribution. The CLT provides the mathematical justification to use these methods even when the population's underlying distribution isn't known or is non-normal.\n",
        "Enables Population Inference:\n",
        "Because sample means tend to be normally distributed, the CLT allows statisticians to make reliable predictions and inferences about a whole population based on a relatively small sample.\n",
        "Foundation for Parametric Tests:\n",
        "It serves as a cornerstone for modern statistical analysis, enabling the development and application of powerful parametric tests that would otherwise be impossible without this assumption of normality for sample means.\n"
      ],
      "metadata": {
        "id": "ns6ZQ7_sqxp1"
      }
    },
    {
      "cell_type": "markdown",
      "source": [
        "7)What is the significance of confidence intervals in statistical analysis?\n",
        "->\n",
        "Confidence intervals provide a range of plausible values for an unknown population parameter (like a mean or proportion) and express the precision of an estimate. They quantify the uncertainty inherent in using a sample to make inferences about a population, showing how stable a result is: a narrower interval indicates a more precise and stable estimate. CIs are crucial for making data-driven decisions, understanding the true effect size, assessing the consistency of findings across studies, and avoiding premature conclusions by providing a \"reality check\" against chance variability."
      ],
      "metadata": {
        "id": "4gzvrJAPrHLh"
      }
    },
    {
      "cell_type": "markdown",
      "source": [
        "8)What is the concept of expected value in a probability distribution?\n",
        "->\n",
        "The expected value in a probability distribution represents the average outcome of a random variable over many repetitions of an experiment. It's a weighted average, where each outcome is multiplied by its probability and then summed up. Essentially, it's the value you'd \"expect\" to see on average if you ran the experiment countless times.\n"
      ],
      "metadata": {
        "id": "nVgEBd3_rRkh"
      }
    },
    {
      "cell_type": "code",
      "source": [
        "'''Write a Python program to generate 1000 random numbers from a normal\n",
        "distribution with mean = 50 and standard deviation = 5. Compute its mean and standard\n",
        "deviation using NumPy, and draw a histogram to visualize the distribution.'''\n",
        "\n",
        "import numpy as np\n",
        "import matplotlib.pyplot as plt\n",
        "\n",
        "# Step 1: Generate 1000 random numbers from Normal(mean=50, std=5)\n",
        "data = np.random.normal(loc=50, scale=5, size=1000)\n",
        "\n",
        "# Step 2: Compute mean and standard deviation\n",
        "mean = np.mean(data)\n",
        "std_dev = np.std(data)\n",
        "\n",
        "print(f\"Calculated Mean: {mean:.2f}\")\n",
        "print(f\"Calculated Standard Deviation: {std_dev:.2f}\")\n",
        "\n",
        "# Step 3: Plot histogram\n",
        "plt.hist(data, bins=30, edgecolor='black', alpha=0.7)\n",
        "plt.title(\"Histogram of Normal Distribution (mean=50, std=5)\")\n",
        "plt.xlabel(\"Value\")\n",
        "plt.ylabel(\"Frequency\")\n",
        "plt.grid(True, linestyle=\"--\", alpha=0.6)\n",
        "plt.show()\n",
        "\n"
      ],
      "metadata": {
        "colab": {
          "base_uri": "https://localhost:8080/",
          "height": 507
        },
        "id": "c6IYSpJYrafw",
        "outputId": "b083f3f3-cbb2-4508-ac3c-0f6777536b6a"
      },
      "execution_count": 1,
      "outputs": [
        {
          "output_type": "stream",
          "name": "stdout",
          "text": [
            "Calculated Mean: 49.82\n",
            "Calculated Standard Deviation: 5.03\n"
          ]
        },
        {
          "output_type": "display_data",
          "data": {
            "text/plain": [
              "<Figure size 640x480 with 1 Axes>"
            ],
            "image/png": "[encoded data removed]"
          },
          "metadata": {}
        }
      ]
    },
    {
      "cell_type": "code",
      "source": [
        "'''You are working as a data analyst for a retail company. The company has\n",
        "collected daily sales data for 2 years and wants you to identify the overall sales trend.\n",
        "daily_sales = [220, 245, 210, 265, 230, 250, 260, 275, 240, 255,\n",
        "235, 260, 245, 250, 225, 270, 265, 255, 250, 260]\n",
        "● Explain how you would apply the Central Limit Theorem to estimate the average sales\n",
        "with a 95% confidence interval.\n",
        "● Write the Python code to compute the mean sales and its confidence interval'''\n",
        "\n",
        "import numpy as np\n",
        "import scipy.stats as stats\n",
        "\n",
        "# Daily sales data (20 days as sample)\n",
        "daily_sales = [220, 245, 210, 265, 230, 250, 260, 275, 240, 255,\n",
        "               235, 260, 245, 250, 225, 270, 265, 255, 250, 260]\n",
        "\n",
        "# Convert to numpy array\n",
        "data = np.array(daily_sales)\n",
        "\n",
        "# Sample statistics\n",
        "mean_sales = np.mean(data)\n",
        "std_dev = np.std(data, ddof=1)  # sample standard deviation\n",
        "n = len(data)\n",
        "\n",
        "# Standard error\n",
        "se = std_dev / np.sqrt(n)\n",
        "\n",
        "# 95% Confidence Interval using Z (normal approximation)\n",
        "z_value = 1.96\n",
        "ci_lower = mean_sales - z_value * se\n",
        "ci_upper = mean_sales + z_value * se\n",
        "\n",
        "print(f\"Mean Daily Sales: {mean_sales:.2f}\")\n",
        "print(f\"95% Confidence Interval: ({ci_lower:.2f}, {ci_upper:.2f})\")\n"
      ],
      "metadata": {
        "colab": {
          "base_uri": "https://localhost:8080/"
        },
        "id": "1ALJosw2rlM3",
        "outputId": "998378ce-8888-4031-ae1b-9bb15ddcebf2"
      },
      "execution_count": 2,
      "outputs": [
        {
          "output_type": "stream",
          "name": "stdout",
          "text": [
            "Mean Daily Sales: 248.25\n",
            "95% Confidence Interval: (240.68, 255.82)\n"
          ]
        }
      ]
    },
    {
      "cell_type": "code",
      "source": [],
      "metadata": {
        "id": "BGqGRWOtrzJd"
      },
      "execution_count": null,
      "outputs": []
    }
  ]
}